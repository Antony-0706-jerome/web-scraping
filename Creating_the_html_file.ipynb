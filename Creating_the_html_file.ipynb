{
  "nbformat": 4,
  "nbformat_minor": 0,
  "metadata": {
    "colab": {
      "provenance": []
    },
    "kernelspec": {
      "name": "python3",
      "display_name": "Python 3"
    },
    "language_info": {
      "name": "python"
    }
  },
  "cells": [
    {
      "cell_type": "code",
      "execution_count": 1,
      "metadata": {
        "id": "9-Xh40ronqqW"
      },
      "outputs": [],
      "source": [
        "import pyspark\n",
        "from pyspark.sql import SparkSession\n",
        "from bs4 import BeautifulSoup\n",
        "from requests import *"
      ]
    },
    {
      "cell_type": "code",
      "source": [
        "spark = SparkSession.builder.config('spark.ui.port', '4050').getOrCreate()\n",
        "sc = spark.sparkContext\n",
        "sc"
      ],
      "metadata": {
        "colab": {
          "base_uri": "https://localhost:8080/",
          "height": 196
        },
        "id": "dPUf2ruSnz_C",
        "outputId": "456b8ad9-af5a-4bda-c2c6-5c7eebd328bb"
      },
      "execution_count": 27,
      "outputs": [
        {
          "output_type": "execute_result",
          "data": {
            "text/plain": [
              "<SparkContext master=local[*] appName=pyspark-shell>"
            ],
            "text/html": [
              "\n",
              "        <div>\n",
              "            <p><b>SparkContext</b></p>\n",
              "\n",
              "            <p><a href=\"http://5987bdf28a6e:4050\">Spark UI</a></p>\n",
              "\n",
              "            <dl>\n",
              "              <dt>Version</dt>\n",
              "                <dd><code>v3.4.1</code></dd>\n",
              "              <dt>Master</dt>\n",
              "                <dd><code>local[*]</code></dd>\n",
              "              <dt>AppName</dt>\n",
              "                <dd><code>pyspark-shell</code></dd>\n",
              "            </dl>\n",
              "        </div>\n",
              "        "
            ]
          },
          "metadata": {},
          "execution_count": 27
        }
      ]
    },
    {
      "cell_type": "code",
      "source": [
        "from py4j.java_gateway import java_import\n",
        "java_import(spark._sc._jvm, \"org.apache.spark.sql.api.python.*\")"
      ],
      "metadata": {
        "id": "09AK0SaVpvcR"
      },
      "execution_count": 3,
      "outputs": []
    },
    {
      "cell_type": "code",
      "source": [
        "import pandas as pd\n",
        "f = pd.read_csv('urls.csv')"
      ],
      "metadata": {
        "id": "CSqlSLc0qab9"
      },
      "execution_count": 4,
      "outputs": []
    },
    {
      "cell_type": "code",
      "source": [
        "urls = []\n",
        "for i in range(len(f)):\n",
        "  urls.append(f.iloc[i]['Base Urls'])"
      ],
      "metadata": {
        "id": "dXJoIO9xtERC"
      },
      "execution_count": 5,
      "outputs": []
    },
    {
      "cell_type": "code",
      "source": [
        "rdd = sc.parallelize(urls)"
      ],
      "metadata": {
        "id": "b2fFmuUKtMXi"
      },
      "execution_count": 10,
      "outputs": []
    },
    {
      "cell_type": "code",
      "source": [
        "rdd_map = rdd.map(lambda x : x.strip())"
      ],
      "metadata": {
        "id": "3glW83p53xXW"
      },
      "execution_count": 12,
      "outputs": []
    },
    {
      "cell_type": "code",
      "source": [
        "url_rdd = rdd_map.collect()"
      ],
      "metadata": {
        "id": "Zm46m70n5m2s"
      },
      "execution_count": 14,
      "outputs": []
    },
    {
      "cell_type": "code",
      "source": [
        "def html_file(urls , file_name):\n",
        "    req = get(urls)\n",
        "    soup = BeautifulSoup(req.text , 'html.parser')\n",
        "    file = open(file_name+'.html' , 'w' , encoding = 'UTF-8')\n",
        "    file.write(str(soup))\n",
        "    file.close()\n",
        "    print(file_name,' file created')"
      ],
      "metadata": {
        "id": "2Tdq7bBz50x_"
      },
      "execution_count": 22,
      "outputs": []
    },
    {
      "cell_type": "code",
      "source": [
        "for url in url_rdd:\n",
        "  html_file(url , url.split('/')[-1])"
      ],
      "metadata": {
        "colab": {
          "base_uri": "https://localhost:8080/"
        },
        "id": "khx7PDko9eag",
        "outputId": "984aaa0f-de4c-4227-e633-9db868465c62"
      },
      "execution_count": 25,
      "outputs": [
        {
          "output_type": "stream",
          "name": "stdout",
          "text": [
            "Bill_Gates  file created\n",
            "Elon_Musk  file created\n",
            "Sundar_Pichai  file created\n",
            "Satya_Nadella  file created\n"
          ]
        }
      ]
    },
    {
      "cell_type": "code",
      "source": [
        "sc.stop()"
      ],
      "metadata": {
        "id": "57l_3RIyB7qX"
      },
      "execution_count": 38,
      "outputs": []
    },
    {
      "cell_type": "code",
      "source": [],
      "metadata": {
        "id": "qBdAOoJoOmCv"
      },
      "execution_count": null,
      "outputs": []
    }
  ]
}